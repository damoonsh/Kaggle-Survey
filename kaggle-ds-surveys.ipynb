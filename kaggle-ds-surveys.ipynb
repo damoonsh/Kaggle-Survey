{
 "cells": [
  {
   "cell_type": "markdown",
   "metadata": {
    "papermill": {
     "duration": 0.024619,
     "end_time": "2020-12-16T12:45:00.657361",
     "exception": false,
     "start_time": "2020-12-16T12:45:00.632742",
     "status": "completed"
    },
    "tags": []
   },
   "source": [
    "# Strategy:\n",
    "I will clean and reformat the data. Then I will analyze different characterisitcs of thhe data and try to connect some various components together in order to obtain a valuable conclusion."
   ]
  },
  {
   "cell_type": "code",
   "execution_count": 1,
   "metadata": {
    "_cell_guid": "b1076dfc-b9ad-4769-8c92-a6c4dae69d19",
    "_uuid": "8f2839f25d086af736a60e9eeb907d3b93b6e0e5",
    "execution": {
     "iopub.execute_input": "2020-12-16T12:45:00.706314Z",
     "iopub.status.busy": "2020-12-16T12:45:00.705648Z",
     "iopub.status.idle": "2020-12-16T12:45:00.709205Z",
     "shell.execute_reply": "2020-12-16T12:45:00.709771Z"
    },
    "papermill": {
     "duration": 0.030427,
     "end_time": "2020-12-16T12:45:00.709939",
     "exception": false,
     "start_time": "2020-12-16T12:45:00.679512",
     "status": "completed"
    },
    "tags": []
   },
   "outputs": [],
   "source": [
    "import numpy as np \n",
    "import pandas as pd "
   ]
  },
  {
   "cell_type": "markdown",
   "metadata": {
    "papermill": {
     "duration": 0.021567,
     "end_time": "2020-12-16T12:45:00.753259",
     "exception": false,
     "start_time": "2020-12-16T12:45:00.731692",
     "status": "completed"
    },
    "tags": []
   },
   "source": [
    "# Loading and Cleaning the data\n",
    "- Column names are a bit wierd and verbose which should be taken care of\n",
    "- Also, most columns are actually options of the same question which it would be helpful to break dwon annd go over each individual question before diving into more complicated inter-patterns within the data.\n",
    "- The majority of missing values are because of the multi optional questions but they are some uni-option question with missing values that need imputing."
   ]
  },
  {
   "cell_type": "code",
   "execution_count": 2,
   "metadata": {
    "execution": {
     "iopub.execute_input": "2020-12-16T12:45:00.809154Z",
     "iopub.status.busy": "2020-12-16T12:45:00.805933Z",
     "iopub.status.idle": "2020-12-16T12:45:02.232471Z",
     "shell.execute_reply": "2020-12-16T12:45:02.231831Z"
    },
    "papermill": {
     "duration": 1.457794,
     "end_time": "2020-12-16T12:45:02.232624",
     "exception": false,
     "start_time": "2020-12-16T12:45:00.774830",
     "status": "completed"
    },
    "tags": []
   },
   "outputs": [],
   "source": [
    "# Loading the reponse Data\n",
    "res = pd.read_csv('/kaggle/input/kaggle-survey-2020/kaggle_survey_2020_responses.csv', low_memory=False)\n",
    "\n",
    "# Formating the columns for comfortable access\n",
    "column_dict = {}\n",
    "\n",
    "# Getting the necessary dictionary needed to change the column names\n",
    "for col in res.columns:\n",
    "    n_col = col.replace('_Part_', '.')\n",
    "    n_col = n_col.replace('_', '.')\n",
    "    n_col = n_col.replace('OTHER', '0')\n",
    "    column_dict[col] = n_col\n",
    "    \n",
    "# Rename the columns\n",
    "res.rename(columns=column_dict, inplace=True)\n",
    "\n",
    "# Getting the uni-option columns/questions\n",
    "uo_cols = []\n",
    "for col in res.columns[1:]:\n",
    "    if not '.' in col:\n",
    "        uo_cols.append(col)"
   ]
  },
  {
   "cell_type": "markdown",
   "metadata": {
    "papermill": {
     "duration": 0.021997,
     "end_time": "2020-12-16T12:45:02.277187",
     "exception": false,
     "start_time": "2020-12-16T12:45:02.255190",
     "status": "completed"
    },
    "tags": []
   },
   "source": [
    "# Break Down:\n",
    "Functions below are used to format the data into a more readable way."
   ]
  },
  {
   "cell_type": "code",
   "execution_count": 3,
   "metadata": {
    "execution": {
     "iopub.execute_input": "2020-12-16T12:45:02.333972Z",
     "iopub.status.busy": "2020-12-16T12:45:02.333260Z",
     "iopub.status.idle": "2020-12-16T12:45:02.338259Z",
     "shell.execute_reply": "2020-12-16T12:45:02.337648Z"
    },
    "papermill": {
     "duration": 0.03956,
     "end_time": "2020-12-16T12:45:02.338413",
     "exception": false,
     "start_time": "2020-12-16T12:45:02.298853",
     "status": "completed"
    },
    "tags": []
   },
   "outputs": [],
   "source": [
    "def break_down(start_index: int, end_index: int):\n",
    "    \"\"\"\n",
    "        Subsetting the dataframe into questions and binarizing the columns\n",
    "        \n",
    "        input: \n",
    "            start_index = The start of the subset index\n",
    "            end_index = The end of the subset index\n",
    "            \n",
    "        returns:\n",
    "            dataframe containing the reponses to a given question\n",
    "    \"\"\"\n",
    "    subset = res.iloc[1:, start_index:end_index].copy()\n",
    "    \n",
    "    \n",
    "    return binary_formatting(subset)\n",
    "\n",
    "def binary_formatting(df: pd.DataFrame):\n",
    "    \"\"\"\n",
    "        Binarizing the columns, changing the column names\n",
    "        \n",
    "        input:\n",
    "            df = Dataframe to binarize\n",
    "        \n",
    "        returns:\n",
    "            A dataframe of binary columns with answers as their column names\n",
    "    \"\"\"\n",
    "    col_dict = {}\n",
    "    for col in df.columns:\n",
    "        val = np.nan\n",
    "        if pd.isna(df[col].unique()[0]):\n",
    "            val = df[col].unique()[1]\n",
    "        else:\n",
    "            val = df[col].unique()[0]\n",
    "        \n",
    "        \n",
    "        if val == np.nan:\n",
    "            df[col] = df[col].map({np.nan: 0})\n",
    "        else:\n",
    "            df[col] = df[col].map({val: 1, np.nan: 0})\n",
    "        \n",
    "        col_dict[col] = val\n",
    "\n",
    "    df.rename(columns=col_dict, inplace=True)\n",
    "    \n",
    "    return df"
   ]
  },
  {
   "cell_type": "code",
   "execution_count": 4,
   "metadata": {
    "execution": {
     "iopub.execute_input": "2020-12-16T12:45:02.404798Z",
     "iopub.status.busy": "2020-12-16T12:45:02.403772Z",
     "iopub.status.idle": "2020-12-16T12:45:02.417499Z",
     "shell.execute_reply": "2020-12-16T12:45:02.416920Z"
    },
    "papermill": {
     "duration": 0.056553,
     "end_time": "2020-12-16T12:45:02.417618",
     "exception": false,
     "start_time": "2020-12-16T12:45:02.361065",
     "status": "completed"
    },
    "tags": []
   },
   "outputs": [
    {
     "data": {
      "text/html": [
       "<div>\n",
       "<style scoped>\n",
       "    .dataframe tbody tr th:only-of-type {\n",
       "        vertical-align: middle;\n",
       "    }\n",
       "\n",
       "    .dataframe tbody tr th {\n",
       "        vertical-align: top;\n",
       "    }\n",
       "\n",
       "    .dataframe thead th {\n",
       "        text-align: right;\n",
       "    }\n",
       "</style>\n",
       "<table border=\"1\" class=\"dataframe\">\n",
       "  <thead>\n",
       "    <tr style=\"text-align: right;\">\n",
       "      <th></th>\n",
       "      <th>Q7.1</th>\n",
       "      <th>Q7.2</th>\n",
       "      <th>Q7.3</th>\n",
       "      <th>Q7.4</th>\n",
       "      <th>Q7.5</th>\n",
       "      <th>Q7.6</th>\n",
       "      <th>Q7.7</th>\n",
       "      <th>Q7.8</th>\n",
       "      <th>Q7.9</th>\n",
       "      <th>Q7.10</th>\n",
       "      <th>Q7.11</th>\n",
       "      <th>Q7.12</th>\n",
       "      <th>Q7.0</th>\n",
       "    </tr>\n",
       "  </thead>\n",
       "  <tbody>\n",
       "    <tr>\n",
       "      <th>0</th>\n",
       "      <td>What programming languages do you use on a reg...</td>\n",
       "      <td>What programming languages do you use on a reg...</td>\n",
       "      <td>What programming languages do you use on a reg...</td>\n",
       "      <td>What programming languages do you use on a reg...</td>\n",
       "      <td>What programming languages do you use on a reg...</td>\n",
       "      <td>What programming languages do you use on a reg...</td>\n",
       "      <td>What programming languages do you use on a reg...</td>\n",
       "      <td>What programming languages do you use on a reg...</td>\n",
       "      <td>What programming languages do you use on a reg...</td>\n",
       "      <td>What programming languages do you use on a reg...</td>\n",
       "      <td>What programming languages do you use on a reg...</td>\n",
       "      <td>What programming languages do you use on a reg...</td>\n",
       "      <td>What programming languages do you use on a reg...</td>\n",
       "    </tr>\n",
       "    <tr>\n",
       "      <th>1</th>\n",
       "      <td>Python</td>\n",
       "      <td>R</td>\n",
       "      <td>SQL</td>\n",
       "      <td>C</td>\n",
       "      <td>NaN</td>\n",
       "      <td>NaN</td>\n",
       "      <td>Javascript</td>\n",
       "      <td>NaN</td>\n",
       "      <td>NaN</td>\n",
       "      <td>NaN</td>\n",
       "      <td>MATLAB</td>\n",
       "      <td>NaN</td>\n",
       "      <td>Other</td>\n",
       "    </tr>\n",
       "    <tr>\n",
       "      <th>2</th>\n",
       "      <td>Python</td>\n",
       "      <td>R</td>\n",
       "      <td>SQL</td>\n",
       "      <td>NaN</td>\n",
       "      <td>NaN</td>\n",
       "      <td>NaN</td>\n",
       "      <td>NaN</td>\n",
       "      <td>NaN</td>\n",
       "      <td>NaN</td>\n",
       "      <td>NaN</td>\n",
       "      <td>NaN</td>\n",
       "      <td>NaN</td>\n",
       "      <td>NaN</td>\n",
       "    </tr>\n",
       "  </tbody>\n",
       "</table>\n",
       "</div>"
      ],
      "text/plain": [
       "                                                Q7.1  \\\n",
       "0  What programming languages do you use on a reg...   \n",
       "1                                             Python   \n",
       "2                                             Python   \n",
       "\n",
       "                                                Q7.2  \\\n",
       "0  What programming languages do you use on a reg...   \n",
       "1                                                  R   \n",
       "2                                                  R   \n",
       "\n",
       "                                                Q7.3  \\\n",
       "0  What programming languages do you use on a reg...   \n",
       "1                                                SQL   \n",
       "2                                                SQL   \n",
       "\n",
       "                                                Q7.4  \\\n",
       "0  What programming languages do you use on a reg...   \n",
       "1                                                  C   \n",
       "2                                                NaN   \n",
       "\n",
       "                                                Q7.5  \\\n",
       "0  What programming languages do you use on a reg...   \n",
       "1                                                NaN   \n",
       "2                                                NaN   \n",
       "\n",
       "                                                Q7.6  \\\n",
       "0  What programming languages do you use on a reg...   \n",
       "1                                                NaN   \n",
       "2                                                NaN   \n",
       "\n",
       "                                                Q7.7  \\\n",
       "0  What programming languages do you use on a reg...   \n",
       "1                                         Javascript   \n",
       "2                                                NaN   \n",
       "\n",
       "                                                Q7.8  \\\n",
       "0  What programming languages do you use on a reg...   \n",
       "1                                                NaN   \n",
       "2                                                NaN   \n",
       "\n",
       "                                                Q7.9  \\\n",
       "0  What programming languages do you use on a reg...   \n",
       "1                                                NaN   \n",
       "2                                                NaN   \n",
       "\n",
       "                                               Q7.10  \\\n",
       "0  What programming languages do you use on a reg...   \n",
       "1                                                NaN   \n",
       "2                                                NaN   \n",
       "\n",
       "                                               Q7.11  \\\n",
       "0  What programming languages do you use on a reg...   \n",
       "1                                             MATLAB   \n",
       "2                                                NaN   \n",
       "\n",
       "                                               Q7.12  \\\n",
       "0  What programming languages do you use on a reg...   \n",
       "1                                                NaN   \n",
       "2                                                NaN   \n",
       "\n",
       "                                                Q7.0  \n",
       "0  What programming languages do you use on a reg...  \n",
       "1                                              Other  \n",
       "2                                                NaN  "
      ]
     },
     "execution_count": 4,
     "metadata": {},
     "output_type": "execute_result"
    }
   ],
   "source": [
    "res.iloc[:3, 7:20]"
   ]
  },
  {
   "cell_type": "markdown",
   "metadata": {
    "papermill": {
     "duration": 0.021864,
     "end_time": "2020-12-16T12:45:02.461809",
     "exception": false,
     "start_time": "2020-12-16T12:45:02.439945",
     "status": "completed"
    },
    "tags": []
   },
   "source": [
    "# Break down of questions\n",
    "The question with multiple aswers should be formatted and analyzed seperately. Covering the uni-option questions:\n",
    "- Q1: Age \n",
    "- Q2: Geneder \n",
    "- Q3: Country \n",
    "- Q4: Education\n",
    "- Q5: Role\n",
    "- Q6: Programming years\n",
    "- Q8: Recommended Programming Language for a beginner\n",
    "- Q11: Most Common setup\n",
    "- Q13: # of TPU uses\n",
    "- Q15: # of years using ML algorithms\n",
    "- Q20: # of employees in ur company\n",
    "- Q21: # of DS people in ur company\n",
    "- Q22: Does your workplace use ML?\n",
    "- Q24: Salary\n",
    "- Q25: ML expenses\n",
    "- Q30: Most frequent used Big Data tool\n",
    "- Q32: Most frequent used BI tool\n",
    "- Q38: Primary tool for analyzing data"
   ]
  },
  {
   "cell_type": "code",
   "execution_count": 5,
   "metadata": {
    "execution": {
     "iopub.execute_input": "2020-12-16T12:45:02.511758Z",
     "iopub.status.busy": "2020-12-16T12:45:02.511091Z",
     "iopub.status.idle": "2020-12-16T12:45:02.517009Z",
     "shell.execute_reply": "2020-12-16T12:45:02.516282Z"
    },
    "papermill": {
     "duration": 0.033271,
     "end_time": "2020-12-16T12:45:02.517145",
     "exception": false,
     "start_time": "2020-12-16T12:45:02.483874",
     "status": "completed"
    },
    "tags": []
   },
   "outputs": [
    {
     "data": {
      "text/plain": [
       "['Q1',\n",
       " 'Q2',\n",
       " 'Q3',\n",
       " 'Q4',\n",
       " 'Q5',\n",
       " 'Q6',\n",
       " 'Q8',\n",
       " 'Q11',\n",
       " 'Q13',\n",
       " 'Q15',\n",
       " 'Q20',\n",
       " 'Q21',\n",
       " 'Q22',\n",
       " 'Q24',\n",
       " 'Q25',\n",
       " 'Q30',\n",
       " 'Q32',\n",
       " 'Q38']"
      ]
     },
     "execution_count": 5,
     "metadata": {},
     "output_type": "execute_result"
    }
   ],
   "source": [
    "uo_cols # Uni-option columns"
   ]
  },
  {
   "cell_type": "code",
   "execution_count": 6,
   "metadata": {
    "execution": {
     "iopub.execute_input": "2020-12-16T12:45:02.617884Z",
     "iopub.status.busy": "2020-12-16T12:45:02.604494Z",
     "iopub.status.idle": "2020-12-16T12:45:03.944069Z",
     "shell.execute_reply": "2020-12-16T12:45:03.944808Z"
    },
    "papermill": {
     "duration": 1.404084,
     "end_time": "2020-12-16T12:45:03.945059",
     "exception": false,
     "start_time": "2020-12-16T12:45:02.540975",
     "status": "completed"
    },
    "tags": []
   },
   "outputs": [],
   "source": [
    "# Mulit-Option Question Break downs\n",
    "language = break_down(7, 20) # Q7\n",
    "ide = break_down(21, 33) # Q9\n",
    "host_prod = break_down(33, 47) # Q10\n",
    "spec_hardware = break_down(48, 52) # Q12: TPU, GPU\n",
    "viz_lib = break_down(53, 65) # Q14: Which data visualization lib do u use?\n",
    "ml_lib =  break_down(66, 82) # Q16: Regularly used ML libraries\n",
    "algo = break_down(83, 94) # Q17: Regularly used ML Algorithms\n",
    "comp_vision = break_down(94, 101) # Q18: Algorithms related to Computer Vision\n",
    "nlp = break_down(101, 107) # Q19: Algorithms related to NLP\n",
    "work_activity = break_down(110, 118) # Q23\n",
    "cloud_platform = break_down(120, 132) # 26.a"
   ]
  },
  {
   "cell_type": "markdown",
   "metadata": {
    "papermill": {
     "duration": 0.022422,
     "end_time": "2020-12-16T12:45:03.996199",
     "exception": false,
     "start_time": "2020-12-16T12:45:03.973777",
     "status": "completed"
    },
    "tags": []
   },
   "source": [
    "# Brain Storming\n",
    "I don't believe anyone knows if they are going to find something significant when they go through a dataset. I hypothesize that analysis techniques aside, Brain Storming on the data could help the creeative process. And by brainstorming, I mean going through data and trying to challenge your thoughts on the matter."
   ]
  },
  {
   "cell_type": "code",
   "execution_count": 7,
   "metadata": {
    "execution": {
     "iopub.execute_input": "2020-12-16T12:45:04.046782Z",
     "iopub.status.busy": "2020-12-16T12:45:04.046124Z",
     "iopub.status.idle": "2020-12-16T12:45:04.050032Z",
     "shell.execute_reply": "2020-12-16T12:45:04.049506Z"
    },
    "papermill": {
     "duration": 0.03134,
     "end_time": "2020-12-16T12:45:04.050158",
     "exception": false,
     "start_time": "2020-12-16T12:45:04.018818",
     "status": "completed"
    },
    "tags": []
   },
   "outputs": [],
   "source": [
    "import matplotlib.pyplot as plt"
   ]
  },
  {
   "cell_type": "markdown",
   "metadata": {
    "papermill": {
     "duration": 0.022689,
     "end_time": "2020-12-16T12:45:04.095450",
     "exception": false,
     "start_time": "2020-12-16T12:45:04.072761",
     "status": "completed"
    },
    "tags": []
   },
   "source": [
    "# Age:\n",
    "- Majority of Kagglers are between 25-29 age range\n",
    "- Interestingly they are some 70+ participatin in Kaggle."
   ]
  },
  {
   "cell_type": "code",
   "execution_count": 8,
   "metadata": {
    "execution": {
     "iopub.execute_input": "2020-12-16T12:45:04.153191Z",
     "iopub.status.busy": "2020-12-16T12:45:04.151887Z",
     "iopub.status.idle": "2020-12-16T12:45:04.461968Z",
     "shell.execute_reply": "2020-12-16T12:45:04.461429Z"
    },
    "papermill": {
     "duration": 0.343754,
     "end_time": "2020-12-16T12:45:04.462083",
     "exception": false,
     "start_time": "2020-12-16T12:45:04.118329",
     "status": "completed"
    },
    "tags": []
   },
   "outputs": [
    {
     "data": {
      "text/plain": [
       "<matplotlib.axes._subplots.AxesSubplot at 0x7f42ea256ed0>"
      ]
     },
     "execution_count": 8,
     "metadata": {},
     "output_type": "execute_result"
    },
    {
     "data": {
      "image/png": "[encoded data removed]",
      "text/plain": [
       "<Figure size 432x288 with 1 Axes>"
      ]
     },
     "metadata": {
      "needs_background": "light"
     },
     "output_type": "display_data"
    }
   ],
   "source": [
    "# Graphing the occurances\n",
    "res.loc[:,'Q1'].value_counts().plot.barh()"
   ]
  },
  {
   "cell_type": "markdown",
   "metadata": {
    "papermill": {
     "duration": 0.023802,
     "end_time": "2020-12-16T12:45:04.509916",
     "exception": false,
     "start_time": "2020-12-16T12:45:04.486114",
     "status": "completed"
    },
    "tags": []
   },
   "source": [
    "# Gender:\n",
    "- There is an obvious gender gap within the Kaggle community"
   ]
  },
  {
   "cell_type": "code",
   "execution_count": 9,
   "metadata": {
    "execution": {
     "iopub.execute_input": "2020-12-16T12:45:04.572981Z",
     "iopub.status.busy": "2020-12-16T12:45:04.571958Z",
     "iopub.status.idle": "2020-12-16T12:45:04.726870Z",
     "shell.execute_reply": "2020-12-16T12:45:04.726195Z"
    },
    "papermill": {
     "duration": 0.193123,
     "end_time": "2020-12-16T12:45:04.726992",
     "exception": false,
     "start_time": "2020-12-16T12:45:04.533869",
     "status": "completed"
    },
    "tags": []
   },
   "outputs": [
    {
     "data": {
      "text/plain": [
       "<matplotlib.axes._subplots.AxesSubplot at 0x7f42ea044610>"
      ]
     },
     "execution_count": 9,
     "metadata": {},
     "output_type": "execute_result"
    },
    {
     "data": {
      "image/png": "[encoded data removed]",
      "text/plain": [
       "<Figure size 432x288 with 1 Axes>"
      ]
     },
     "metadata": {
      "needs_background": "light"
     },
     "output_type": "display_data"
    }
   ],
   "source": [
    "# Graphing the occurances\n",
    "res.loc[:,'Q2'].value_counts().plot.barh()"
   ]
  },
  {
   "cell_type": "markdown",
   "metadata": {
    "papermill": {
     "duration": 0.026618,
     "end_time": "2020-12-16T12:45:04.779449",
     "exception": false,
     "start_time": "2020-12-16T12:45:04.752831",
     "status": "completed"
    },
    "tags": []
   },
   "source": [
    "# Country:\n",
    "- They are 55 different countries (Counting the others) which people participate from.\n",
    "- In the first 10 countries with the most Kagglers, India is at the lead. Which is interesting since India and Nigeria are the only two non-first world countries in top 10. In future, we might change our definition of first and second world.\n",
    "- Based on China's economy and tech initiatives, one might expect to see China in top five. Yet, interestingly China is below US and India with a large difference.\n",
    "- Looking at the data, we can see that people from all over the world are participating"
   ]
  },
  {
   "cell_type": "code",
   "execution_count": 10,
   "metadata": {
    "execution": {
     "iopub.execute_input": "2020-12-16T12:45:04.840489Z",
     "iopub.status.busy": "2020-12-16T12:45:04.839482Z",
     "iopub.status.idle": "2020-12-16T12:45:04.871586Z",
     "shell.execute_reply": "2020-12-16T12:45:04.870890Z"
    },
    "papermill": {
     "duration": 0.066813,
     "end_time": "2020-12-16T12:45:04.871741",
     "exception": false,
     "start_time": "2020-12-16T12:45:04.804928",
     "status": "completed"
    },
    "tags": []
   },
   "outputs": [
    {
     "name": "stdout",
     "output_type": "stream",
     "text": [
      "# of different countries:  55\n"
     ]
    }
   ],
   "source": [
    "# Number of difffernet countries\n",
    "print('# of different countries: ', res.loc[:,'Q3'].unique().shape[0] - 1)\n",
    "res[res['Q3'] == 'United Kingdom of Great Britain and Northern Ireland']\n",
    "\n",
    "# Shortening some of the names\n",
    "country_dict = {\n",
    "    'United Kingdom of Great Britain and Northern Ireland': 'UK',\n",
    "    'United States of America': 'US',\n",
    "    'Republic of Korea': 'Korea',\n",
    "    'United Arab Emirates': 'UAE',\n",
    "    'South Korea': 'Korea',\n",
    "    'Republic of Korea': 'Korea',\n",
    "    'Iran, Islamic Republic of...': 'Iran'\n",
    "}\n",
    "res['Q3'] = res['Q3'].replace(country_dict)"
   ]
  },
  {
   "cell_type": "code",
   "execution_count": 11,
   "metadata": {
    "execution": {
     "iopub.execute_input": "2020-12-16T12:45:04.946823Z",
     "iopub.status.busy": "2020-12-16T12:45:04.946055Z",
     "iopub.status.idle": "2020-12-16T12:45:06.835153Z",
     "shell.execute_reply": "2020-12-16T12:45:06.835733Z"
    },
    "papermill": {
     "duration": 1.935345,
     "end_time": "2020-12-16T12:45:06.835907",
     "exception": false,
     "start_time": "2020-12-16T12:45:04.900562",
     "status": "completed"
    },
    "tags": []
   },
   "outputs": [
    {
     "data": {
      "image/png": "[encoded data removed]",
      "text/plain": [
       "<Figure size 504x504 with 6 Axes>"
      ]
     },
     "metadata": {
      "needs_background": "light"
     },
     "output_type": "display_data"
    }
   ],
   "source": [
    "fig, (r1, r2, r3) = plt.subplots(3, 2, figsize=(7,7), sharex=True)\n",
    "fig.tight_layout()\n",
    "\n",
    "res.loc[:,'Q3'].value_counts()[:10].sort_values().plot.barh(ax=r1[0])\n",
    "res.loc[:,'Q3'].value_counts()[10:20].sort_values().plot.barh(ax=r1[1])\n",
    "res.loc[:,'Q3'].value_counts()[20:30].sort_values().plot.barh(ax=r2[0])\n",
    "res.loc[:,'Q3'].value_counts()[30:40].sort_values().plot.barh(ax=r2[1])\n",
    "res.loc[:,'Q3'].value_counts()[40:50].sort_values().plot.barh(ax=r3[0])\n",
    "res.loc[:,'Q3'].value_counts()[50:-1].sort_values().plot.barh(ax=r3[1])\n",
    "\n",
    "plt.subplots_adjust(left=0, bottom=None, right=2, top=None, wspace=None, hspace=0.5)"
   ]
  },
  {
   "cell_type": "markdown",
   "metadata": {
    "papermill": {
     "duration": 0.028081,
     "end_time": "2020-12-16T12:45:06.892595",
     "exception": false,
     "start_time": "2020-12-16T12:45:06.864514",
     "status": "completed"
    },
    "tags": []
   },
   "source": [
    "# Education\n",
    "- The Majority of Kagglers have a Master's Degree and Bachelor. This kind of makes sense based on the age data. ages 18-25 are the range for these students.\n",
    "`PLot the inner connections between age and degree`"
   ]
  },
  {
   "cell_type": "code",
   "execution_count": 12,
   "metadata": {
    "execution": {
     "iopub.execute_input": "2020-12-16T12:45:06.961236Z",
     "iopub.status.busy": "2020-12-16T12:45:06.960472Z",
     "iopub.status.idle": "2020-12-16T12:45:07.133889Z",
     "shell.execute_reply": "2020-12-16T12:45:07.134485Z"
    },
    "papermill": {
     "duration": 0.2125,
     "end_time": "2020-12-16T12:45:07.134675",
     "exception": false,
     "start_time": "2020-12-16T12:45:06.922175",
     "status": "completed"
    },
    "tags": []
   },
   "outputs": [
    {
     "data": {
      "text/plain": [
       "<matplotlib.axes._subplots.AxesSubplot at 0x7f42e9c61f50>"
      ]
     },
     "execution_count": 12,
     "metadata": {},
     "output_type": "execute_result"
    },
    {
     "data": {
      "image/png": "[encoded data removed]",
      "text/plain": [
       "<Figure size 432x288 with 1 Axes>"
      ]
     },
     "metadata": {
      "needs_background": "light"
     },
     "output_type": "display_data"
    }
   ],
   "source": [
    "# Renaming the Values\n",
    "res.loc[:, 'Q4'] = res.loc[:, 'Q4'].replace({\n",
    "    'Doctoral degree': 'Phd',\n",
    "    'Master’s degree': 'Msc',\n",
    "    'Bachelor’s degree': 'BS',\n",
    "    'No formal education past high school': 'High School',\n",
    "    'Some college/university study without earning a bachelor’s degree': 'Dropout'\n",
    "})\n",
    "\n",
    "# Plotting the occurances\n",
    "res.loc[:, 'Q4'].value_counts()[:-1]. sort_values().plot.barh()"
   ]
  },
  {
   "cell_type": "markdown",
   "metadata": {
    "papermill": {
     "duration": 0.029565,
     "end_time": "2020-12-16T12:45:07.193595",
     "exception": false,
     "start_time": "2020-12-16T12:45:07.164030",
     "status": "completed"
    },
    "tags": []
   },
   "source": [
    "# Language\n",
    "- Python is the most used language, almost double the second language (SQL).\n",
    "- One importantthing to note is that they are some languages in the listing which are not widely used in Data Science but participants have indicated that they use it. And alos some of these languages are more technical than the other ones, in a sense they can be a prerequiste for some other programming languages. For instance, if one knows C then he/she knows C++ and possibly Python.\n",
    "- It might be worth while to analyze what are the alternative programming language for people who does not use the populer one. \n",
    "- I bielive, assumptions could be made just by counting the number of programming languages that poeple know. If they know more than a certain number then they are probably experts and they have been coding for a long time."
   ]
  },
  {
   "cell_type": "code",
   "execution_count": 13,
   "metadata": {
    "execution": {
     "iopub.execute_input": "2020-12-16T12:45:07.261311Z",
     "iopub.status.busy": "2020-12-16T12:45:07.260143Z",
     "iopub.status.idle": "2020-12-16T12:45:07.466962Z",
     "shell.execute_reply": "2020-12-16T12:45:07.466268Z"
    },
    "papermill": {
     "duration": 0.243527,
     "end_time": "2020-12-16T12:45:07.467081",
     "exception": false,
     "start_time": "2020-12-16T12:45:07.223554",
     "status": "completed"
    },
    "tags": []
   },
   "outputs": [
    {
     "data": {
      "text/plain": [
       "<matplotlib.axes._subplots.AxesSubplot at 0x7f42e9b9ecd0>"
      ]
     },
     "execution_count": 13,
     "metadata": {},
     "output_type": "execute_result"
    },
    {
     "data": {
      "image/png": "[encoded data removed]",
      "text/plain": [
       "<Figure size 432x288 with 1 Axes>"
      ]
     },
     "metadata": {
      "needs_background": "light"
     },
     "output_type": "display_data"
    }
   ],
   "source": [
    "(language.sum().sort_values(ascending=True)/ language.shape[0] * 100).plot.barh()"
   ]
  },
  {
   "cell_type": "markdown",
   "metadata": {
    "papermill": {
     "duration": 0.029561,
     "end_time": "2020-12-16T12:45:07.526760",
     "exception": false,
     "start_time": "2020-12-16T12:45:07.497199",
     "status": "completed"
    },
    "tags": []
   },
   "source": [
    "## What is the alternative to Python?\n",
    "- Firstly, they is a minority of people who do not use Python on a regular basis.\n",
    "- And people who don't use Python, use SQL and R for Data-related projects.\n",
    "- Java is another alternative which is probably used because of its presence."
   ]
  },
  {
   "cell_type": "code",
   "execution_count": 14,
   "metadata": {
    "execution": {
     "iopub.execute_input": "2020-12-16T12:45:07.594099Z",
     "iopub.status.busy": "2020-12-16T12:45:07.593443Z",
     "iopub.status.idle": "2020-12-16T12:45:07.763663Z",
     "shell.execute_reply": "2020-12-16T12:45:07.762982Z"
    },
    "papermill": {
     "duration": 0.207551,
     "end_time": "2020-12-16T12:45:07.763777",
     "exception": false,
     "start_time": "2020-12-16T12:45:07.556226",
     "status": "completed"
    },
    "tags": []
   },
   "outputs": [
    {
     "data": {
      "text/plain": [
       "<matplotlib.axes._subplots.AxesSubplot at 0x7f42e828b450>"
      ]
     },
     "execution_count": 14,
     "metadata": {},
     "output_type": "execute_result"
    },
    {
     "data": {
      "image/png": "[encoded data removed]",
      "text/plain": [
       "<Figure size 432x288 with 1 Axes>"
      ]
     },
     "metadata": {
      "needs_background": "light"
     },
     "output_type": "display_data"
    }
   ],
   "source": [
    "(language[language['Python'] == 0].groupby(['Python']).sum()).iloc[0].sort_values().plot.barh()"
   ]
  },
  {
   "cell_type": "markdown",
   "metadata": {
    "papermill": {
     "duration": 0.030602,
     "end_time": "2020-12-16T12:45:07.825566",
     "exception": false,
     "start_time": "2020-12-16T12:45:07.794964",
     "status": "completed"
    },
    "tags": []
   },
   "source": [
    "## Given that you know one language, what are the chances that you know multiple languages?\n",
    "- Based on the data, poeple who use swift regularly know almost 4 programming languages.\n",
    "- Julia Javascript, Java, and C/C++ follow after swift in the average number of programming languages developers use.\n",
    "- Now thigns get interesting when it comes to Python, R, and SQL:\n",
    "    - Python has the lowest average among the programming languages. This shows that lots of people who have learned Python had not seen the point in learning another programming languages.\n",
    "    - Now between these three, SQL has the highest average, this is probably because of the fact that SQL is limited in the paradigm of things it can do (compared to OO languages R and Python). And people have seeked to learn another programming languages.\n",
    "    - Same logic apples to R as well, since it is not a general purpose programming language, Kagglers have learned alternatives.\n",
    "    - All these add up to say that Python is the most prefered choice for data-related projects based on the data sicne it has discouraged people from learning other technologies."
   ]
  },
  {
   "cell_type": "code",
   "execution_count": 15,
   "metadata": {
    "execution": {
     "iopub.execute_input": "2020-12-16T12:45:07.897418Z",
     "iopub.status.busy": "2020-12-16T12:45:07.896308Z",
     "iopub.status.idle": "2020-12-16T12:45:07.929162Z",
     "shell.execute_reply": "2020-12-16T12:45:07.928372Z"
    },
    "papermill": {
     "duration": 0.073169,
     "end_time": "2020-12-16T12:45:07.929324",
     "exception": false,
     "start_time": "2020-12-16T12:45:07.856155",
     "status": "completed"
    },
    "tags": []
   },
   "outputs": [
    {
     "name": "stdout",
     "output_type": "stream",
     "text": [
      "Average number of languages that one knows given that they know [Python] is 1.78\n",
      "Average number of languages that one knows given that they know [R] is 2.36\n",
      "Average number of languages that one knows given that they know [SQL] is 2.54\n",
      "Average number of languages that one knows given that they know [C] is 3.22\n",
      "Average number of languages that one knows given that they know [C++] is 3.04\n",
      "Average number of languages that one knows given that they know [Java] is 3.19\n",
      "Average number of languages that one knows given that they know [Javascript] is 3.23\n",
      "Average number of languages that one knows given that they know [Julia] is 3.4\n",
      "Average number of languages that one knows given that they know [Swift] is 3.77\n",
      "Average number of languages that one knows given that they know [Bash] is 3.2\n",
      "Average number of languages that one knows given that they know [MATLAB] is 2.89\n",
      "Average number of languages that one knows given that they know [None] is 0.0\n",
      "Average number of languages that one knows given that they know [Other] is 2.62\n"
     ]
    }
   ],
   "source": [
    "def average_lang_num(lang):\n",
    "    return language[language[lang] == 1].sum(axis=1).mean()\n",
    "\n",
    "for lang in language.columns:\n",
    "    print(f'Average number of languages that one knows given that they know [{lang}] is {round(average_lang_num(lang) - 1,2)}')"
   ]
  },
  {
   "cell_type": "markdown",
   "metadata": {
    "papermill": {
     "duration": 0.031341,
     "end_time": "2020-12-16T12:45:07.993259",
     "exception": false,
     "start_time": "2020-12-16T12:45:07.961918",
     "status": "completed"
    },
    "tags": []
   },
   "source": [
    "# IDE\n",
    "- Jupyter Products are widely used. It is important to note that this decision is affected by the popular programming languages. Also, Jupyter provides support for pretty much all the top used languages.\n",
    "- The interesting thing to see is that Python IDE users are diverse, some use Jupyter, code, Pycharm, and Spyder.\n",
    "- I postulate that people who use Vim/Emacs and Visual Studio are older than others."
   ]
  },
  {
   "cell_type": "code",
   "execution_count": 16,
   "metadata": {
    "execution": {
     "iopub.execute_input": "2020-12-16T12:45:08.063019Z",
     "iopub.status.busy": "2020-12-16T12:45:08.062336Z",
     "iopub.status.idle": "2020-12-16T12:45:08.246622Z",
     "shell.execute_reply": "2020-12-16T12:45:08.245968Z"
    },
    "papermill": {
     "duration": 0.221861,
     "end_time": "2020-12-16T12:45:08.246741",
     "exception": false,
     "start_time": "2020-12-16T12:45:08.024880",
     "status": "completed"
    },
    "tags": []
   },
   "outputs": [
    {
     "data": {
      "text/plain": [
       "<matplotlib.axes._subplots.AxesSubplot at 0x7f42e8227750>"
      ]
     },
     "execution_count": 16,
     "metadata": {},
     "output_type": "execute_result"
    },
    {
     "data": {
      "image/png": "[encoded data removed]",
      "text/plain": [
       "<Figure size 432x288 with 1 Axes>"
      ]
     },
     "metadata": {
      "needs_background": "light"
     },
     "output_type": "display_data"
    }
   ],
   "source": [
    "ide.sum().sort_values(ascending=True).plot.barh()"
   ]
  },
  {
   "cell_type": "markdown",
   "metadata": {
    "papermill": {
     "duration": 0.032489,
     "end_time": "2020-12-16T12:45:08.312043",
     "exception": false,
     "start_time": "2020-12-16T12:45:08.279554",
     "status": "completed"
    },
    "tags": []
   },
   "source": [
    "Interestingly, most poeple who use Vim/Emacs are between 25-29, yet my postulation is not necessarily wrong since most users are in their thirties. Also, the majority of surveyed people were in 22-24 age range and it is still 4th in the place."
   ]
  },
  {
   "cell_type": "code",
   "execution_count": 17,
   "metadata": {
    "execution": {
     "iopub.execute_input": "2020-12-16T12:45:08.384743Z",
     "iopub.status.busy": "2020-12-16T12:45:08.383729Z",
     "iopub.status.idle": "2020-12-16T12:45:08.642042Z",
     "shell.execute_reply": "2020-12-16T12:45:08.642515Z"
    },
    "papermill": {
     "duration": 0.297729,
     "end_time": "2020-12-16T12:45:08.642672",
     "exception": false,
     "start_time": "2020-12-16T12:45:08.344943",
     "status": "completed"
    },
    "tags": []
   },
   "outputs": [
    {
     "data": {
      "text/plain": [
       "<matplotlib.axes._subplots.AxesSubplot at 0x7f42e81fbf90>"
      ]
     },
     "execution_count": 17,
     "metadata": {},
     "output_type": "execute_result"
    },
    {
     "data": {
      "image/png": "[encoded data removed]",
      "text/plain": [
       "<Figure size 432x288 with 1 Axes>"
      ]
     },
     "metadata": {
      "needs_background": "light"
     },
     "output_type": "display_data"
    }
   ],
   "source": [
    "res.loc[ide[ide['  Vim / Emacs  '] == 1].index, ['Q1']].value_counts().plot.barh()"
   ]
  },
  {
   "cell_type": "markdown",
   "metadata": {
    "papermill": {
     "duration": 0.036705,
     "end_time": "2020-12-16T12:45:08.715631",
     "exception": false,
     "start_time": "2020-12-16T12:45:08.678926",
     "status": "completed"
    },
    "tags": []
   },
   "source": [
    "## What is the alternative IDE for MATLAB users?\n",
    "- Octave, is a non-paid version of MATLAB and it is one of the possible ides used by Kagglers.\n",
    "- Jupyter has support for it yet there are only ~650 MATLAB programmers who use other products than MATLAB IDE."
   ]
  },
  {
   "cell_type": "code",
   "execution_count": 18,
   "metadata": {
    "execution": {
     "iopub.execute_input": "2020-12-16T12:45:08.791199Z",
     "iopub.status.busy": "2020-12-16T12:45:08.790444Z",
     "iopub.status.idle": "2020-12-16T12:45:08.796640Z",
     "shell.execute_reply": "2020-12-16T12:45:08.795910Z"
    },
    "papermill": {
     "duration": 0.046903,
     "end_time": "2020-12-16T12:45:08.796775",
     "exception": false,
     "start_time": "2020-12-16T12:45:08.749872",
     "status": "completed"
    },
    "tags": []
   },
   "outputs": [
    {
     "name": "stdout",
     "output_type": "stream",
     "text": [
      "2217 claimed they use MATLAB regularly yet 1604 use MATLAB as their editor!\n"
     ]
    }
   ],
   "source": [
    "matlab_users= language[language['MATLAB'] == 1].shape[0]\n",
    "ide_users = ide[ide[' MATLAB '] == 1].shape[0]\n",
    "print(f'{matlab_users} claimed they use MATLAB regularly yet {ide_users} use MATLAB as their editor!')"
   ]
  },
  {
   "cell_type": "code",
   "execution_count": 19,
   "metadata": {
    "execution": {
     "iopub.execute_input": "2020-12-16T12:45:08.876032Z",
     "iopub.status.busy": "2020-12-16T12:45:08.875246Z",
     "iopub.status.idle": "2020-12-16T12:45:08.881404Z",
     "shell.execute_reply": "2020-12-16T12:45:08.881938Z"
    },
    "papermill": {
     "duration": 0.050103,
     "end_time": "2020-12-16T12:45:08.882104",
     "exception": false,
     "start_time": "2020-12-16T12:45:08.832001",
     "status": "completed"
    },
    "tags": []
   },
   "outputs": [
    {
     "data": {
      "text/plain": [
       "(2.0953284088640447, 0, 11)"
      ]
     },
     "execution_count": 19,
     "metadata": {},
     "output_type": "execute_result"
    }
   ],
   "source": [
    "ide.sum(axis=1).mean(), ide.sum(axis=1).min(), ide.sum(axis=1).max()"
   ]
  },
  {
   "cell_type": "code",
   "execution_count": 20,
   "metadata": {
    "execution": {
     "iopub.execute_input": "2020-12-16T12:45:08.959445Z",
     "iopub.status.busy": "2020-12-16T12:45:08.958351Z",
     "iopub.status.idle": "2020-12-16T12:45:08.968294Z",
     "shell.execute_reply": "2020-12-16T12:45:08.968858Z"
    },
    "papermill": {
     "duration": 0.050497,
     "end_time": "2020-12-16T12:45:08.969034",
     "exception": false,
     "start_time": "2020-12-16T12:45:08.918537",
     "status": "completed"
    },
    "tags": []
   },
   "outputs": [
    {
     "data": {
      "text/plain": [
       "2     5267\n",
       "1     5199\n",
       "3     4029\n",
       "0     2463\n",
       "4     1918\n",
       "5      715\n",
       "6      289\n",
       "7       99\n",
       "8       37\n",
       "9       10\n",
       "10       8\n",
       "11       2\n",
       "dtype: int64"
      ]
     },
     "execution_count": 20,
     "metadata": {},
     "output_type": "execute_result"
    }
   ],
   "source": [
    "ide.sum(axis=1).value_counts()"
   ]
  },
  {
   "cell_type": "markdown",
   "metadata": {
    "papermill": {
     "duration": 0.036229,
     "end_time": "2020-12-16T12:45:09.042541",
     "exception": false,
     "start_time": "2020-12-16T12:45:09.006312",
     "status": "completed"
    },
    "tags": []
   },
   "source": [
    "# Algorithms"
   ]
  },
  {
   "cell_type": "code",
   "execution_count": 21,
   "metadata": {
    "execution": {
     "iopub.execute_input": "2020-12-16T12:45:09.137004Z",
     "iopub.status.busy": "2020-12-16T12:45:09.136281Z",
     "iopub.status.idle": "2020-12-16T12:45:09.140290Z",
     "shell.execute_reply": "2020-12-16T12:45:09.140832Z"
    },
    "papermill": {
     "duration": 0.061914,
     "end_time": "2020-12-16T12:45:09.141013",
     "exception": false,
     "start_time": "2020-12-16T12:45:09.079099",
     "status": "completed"
    },
    "tags": []
   },
   "outputs": [
    {
     "data": {
      "text/html": [
       "<div>\n",
       "<style scoped>\n",
       "    .dataframe tbody tr th:only-of-type {\n",
       "        vertical-align: middle;\n",
       "    }\n",
       "\n",
       "    .dataframe tbody tr th {\n",
       "        vertical-align: top;\n",
       "    }\n",
       "\n",
       "    .dataframe thead th {\n",
       "        text-align: right;\n",
       "    }\n",
       "</style>\n",
       "<table border=\"1\" class=\"dataframe\">\n",
       "  <thead>\n",
       "    <tr style=\"text-align: right;\">\n",
       "      <th></th>\n",
       "      <th>Decision Trees or Random Forests</th>\n",
       "      <th>Gradient Boosting Machines (xgboost, lightgbm, etc)</th>\n",
       "      <th>Bayesian Approaches</th>\n",
       "      <th>Evolutionary Approaches</th>\n",
       "      <th>Dense Neural Networks (MLPs, etc)</th>\n",
       "      <th>Convolutional Neural Networks</th>\n",
       "      <th>Generative Adversarial Networks</th>\n",
       "      <th>Recurrent Neural Networks</th>\n",
       "      <th>Transformer Networks (BERT, gpt-3, etc)</th>\n",
       "      <th>None</th>\n",
       "      <th>Other</th>\n",
       "    </tr>\n",
       "  </thead>\n",
       "  <tbody>\n",
       "    <tr>\n",
       "      <th>1</th>\n",
       "      <td>1</td>\n",
       "      <td>1</td>\n",
       "      <td>1</td>\n",
       "      <td>0</td>\n",
       "      <td>1</td>\n",
       "      <td>1</td>\n",
       "      <td>0</td>\n",
       "      <td>1</td>\n",
       "      <td>0</td>\n",
       "      <td>0</td>\n",
       "      <td>0</td>\n",
       "    </tr>\n",
       "    <tr>\n",
       "      <th>2</th>\n",
       "      <td>0</td>\n",
       "      <td>0</td>\n",
       "      <td>0</td>\n",
       "      <td>0</td>\n",
       "      <td>0</td>\n",
       "      <td>1</td>\n",
       "      <td>0</td>\n",
       "      <td>0</td>\n",
       "      <td>1</td>\n",
       "      <td>0</td>\n",
       "      <td>0</td>\n",
       "    </tr>\n",
       "    <tr>\n",
       "      <th>3</th>\n",
       "      <td>0</td>\n",
       "      <td>0</td>\n",
       "      <td>0</td>\n",
       "      <td>0</td>\n",
       "      <td>0</td>\n",
       "      <td>0</td>\n",
       "      <td>0</td>\n",
       "      <td>0</td>\n",
       "      <td>0</td>\n",
       "      <td>0</td>\n",
       "      <td>0</td>\n",
       "    </tr>\n",
       "    <tr>\n",
       "      <th>4</th>\n",
       "      <td>1</td>\n",
       "      <td>1</td>\n",
       "      <td>1</td>\n",
       "      <td>0</td>\n",
       "      <td>1</td>\n",
       "      <td>0</td>\n",
       "      <td>0</td>\n",
       "      <td>0</td>\n",
       "      <td>0</td>\n",
       "      <td>0</td>\n",
       "      <td>0</td>\n",
       "    </tr>\n",
       "    <tr>\n",
       "      <th>5</th>\n",
       "      <td>0</td>\n",
       "      <td>0</td>\n",
       "      <td>0</td>\n",
       "      <td>0</td>\n",
       "      <td>0</td>\n",
       "      <td>0</td>\n",
       "      <td>0</td>\n",
       "      <td>0</td>\n",
       "      <td>0</td>\n",
       "      <td>0</td>\n",
       "      <td>0</td>\n",
       "    </tr>\n",
       "    <tr>\n",
       "      <th>...</th>\n",
       "      <td>...</td>\n",
       "      <td>...</td>\n",
       "      <td>...</td>\n",
       "      <td>...</td>\n",
       "      <td>...</td>\n",
       "      <td>...</td>\n",
       "      <td>...</td>\n",
       "      <td>...</td>\n",
       "      <td>...</td>\n",
       "      <td>...</td>\n",
       "      <td>...</td>\n",
       "    </tr>\n",
       "    <tr>\n",
       "      <th>20032</th>\n",
       "      <td>0</td>\n",
       "      <td>0</td>\n",
       "      <td>0</td>\n",
       "      <td>0</td>\n",
       "      <td>0</td>\n",
       "      <td>0</td>\n",
       "      <td>0</td>\n",
       "      <td>0</td>\n",
       "      <td>0</td>\n",
       "      <td>0</td>\n",
       "      <td>0</td>\n",
       "    </tr>\n",
       "    <tr>\n",
       "      <th>20033</th>\n",
       "      <td>1</td>\n",
       "      <td>0</td>\n",
       "      <td>0</td>\n",
       "      <td>0</td>\n",
       "      <td>1</td>\n",
       "      <td>1</td>\n",
       "      <td>0</td>\n",
       "      <td>0</td>\n",
       "      <td>1</td>\n",
       "      <td>0</td>\n",
       "      <td>0</td>\n",
       "    </tr>\n",
       "    <tr>\n",
       "      <th>20034</th>\n",
       "      <td>0</td>\n",
       "      <td>0</td>\n",
       "      <td>0</td>\n",
       "      <td>0</td>\n",
       "      <td>0</td>\n",
       "      <td>0</td>\n",
       "      <td>0</td>\n",
       "      <td>0</td>\n",
       "      <td>0</td>\n",
       "      <td>0</td>\n",
       "      <td>0</td>\n",
       "    </tr>\n",
       "    <tr>\n",
       "      <th>20035</th>\n",
       "      <td>1</td>\n",
       "      <td>1</td>\n",
       "      <td>0</td>\n",
       "      <td>0</td>\n",
       "      <td>1</td>\n",
       "      <td>1</td>\n",
       "      <td>0</td>\n",
       "      <td>1</td>\n",
       "      <td>0</td>\n",
       "      <td>0</td>\n",
       "      <td>0</td>\n",
       "    </tr>\n",
       "    <tr>\n",
       "      <th>20036</th>\n",
       "      <td>1</td>\n",
       "      <td>0</td>\n",
       "      <td>0</td>\n",
       "      <td>0</td>\n",
       "      <td>1</td>\n",
       "      <td>1</td>\n",
       "      <td>0</td>\n",
       "      <td>0</td>\n",
       "      <td>0</td>\n",
       "      <td>0</td>\n",
       "      <td>0</td>\n",
       "    </tr>\n",
       "  </tbody>\n",
       "</table>\n",
       "<p>20036 rows × 11 columns</p>\n",
       "</div>"
      ],
      "text/plain": [
       "       Decision Trees or Random Forests  \\\n",
       "1                                     1   \n",
       "2                                     0   \n",
       "3                                     0   \n",
       "4                                     1   \n",
       "5                                     0   \n",
       "...                                 ...   \n",
       "20032                                 0   \n",
       "20033                                 1   \n",
       "20034                                 0   \n",
       "20035                                 1   \n",
       "20036                                 1   \n",
       "\n",
       "       Gradient Boosting Machines (xgboost, lightgbm, etc)  \\\n",
       "1                                                      1     \n",
       "2                                                      0     \n",
       "3                                                      0     \n",
       "4                                                      1     \n",
       "5                                                      0     \n",
       "...                                                  ...     \n",
       "20032                                                  0     \n",
       "20033                                                  0     \n",
       "20034                                                  0     \n",
       "20035                                                  1     \n",
       "20036                                                  0     \n",
       "\n",
       "       Bayesian Approaches  Evolutionary Approaches  \\\n",
       "1                        1                        0   \n",
       "2                        0                        0   \n",
       "3                        0                        0   \n",
       "4                        1                        0   \n",
       "5                        0                        0   \n",
       "...                    ...                      ...   \n",
       "20032                    0                        0   \n",
       "20033                    0                        0   \n",
       "20034                    0                        0   \n",
       "20035                    0                        0   \n",
       "20036                    0                        0   \n",
       "\n",
       "       Dense Neural Networks (MLPs, etc)  Convolutional Neural Networks  \\\n",
       "1                                      1                              1   \n",
       "2                                      0                              1   \n",
       "3                                      0                              0   \n",
       "4                                      1                              0   \n",
       "5                                      0                              0   \n",
       "...                                  ...                            ...   \n",
       "20032                                  0                              0   \n",
       "20033                                  1                              1   \n",
       "20034                                  0                              0   \n",
       "20035                                  1                              1   \n",
       "20036                                  1                              1   \n",
       "\n",
       "       Generative Adversarial Networks  Recurrent Neural Networks  \\\n",
       "1                                    0                          1   \n",
       "2                                    0                          0   \n",
       "3                                    0                          0   \n",
       "4                                    0                          0   \n",
       "5                                    0                          0   \n",
       "...                                ...                        ...   \n",
       "20032                                0                          0   \n",
       "20033                                0                          0   \n",
       "20034                                0                          0   \n",
       "20035                                0                          1   \n",
       "20036                                0                          0   \n",
       "\n",
       "       Transformer Networks (BERT, gpt-3, etc)  None  Other  \n",
       "1                                            0     0      0  \n",
       "2                                            1     0      0  \n",
       "3                                            0     0      0  \n",
       "4                                            0     0      0  \n",
       "5                                            0     0      0  \n",
       "...                                        ...   ...    ...  \n",
       "20032                                        0     0      0  \n",
       "20033                                        1     0      0  \n",
       "20034                                        0     0      0  \n",
       "20035                                        0     0      0  \n",
       "20036                                        0     0      0  \n",
       "\n",
       "[20036 rows x 11 columns]"
      ]
     },
     "execution_count": 21,
     "metadata": {},
     "output_type": "execute_result"
    }
   ],
   "source": [
    "algo"
   ]
  }
 ],
 "metadata": {
  "kernelspec": {
   "display_name": "Python 3",
   "language": "python",
   "name": "python3"
  },
  "language_info": {
   "codemirror_mode": {
    "name": "ipython",
    "version": 3
   },
   "file_extension": ".py",
   "mimetype": "text/x-python",
   "name": "python",
   "nbconvert_exporter": "python",
   "pygments_lexer": "ipython3",
   "version": "3.7.6"
  },
  "papermill": {
   "duration": 13.593007,
   "end_time": "2020-12-16T12:45:09.286427",
   "environment_variables": {},
   "exception": null,
   "input_path": "__notebook__.ipynb",
   "output_path": "__notebook__.ipynb",
   "parameters": {},
   "start_time": "2020-12-16T12:44:55.693420",
   "version": "2.1.0"
  }
 },
 "nbformat": 4,
 "nbformat_minor": 4
}
